{
 "cells": [
  {
   "cell_type": "code",
   "execution_count": 1,
   "id": "f515caa4",
   "metadata": {},
   "outputs": [
    {
     "name": "stdout",
     "output_type": "stream",
     "text": [
      "學生 1 的總分為 295\n",
      "學生 2 的總分為 251\n",
      "學生 3 的總分為 292\n",
      "學生 4 的總分為 248\n",
      "學生 5 的總分為 210\n"
     ]
    }
   ],
   "source": [
    "grades = [[95, 100, 100], [86, 90, 75], [98, 98, 96], [78, 90, 80], [70, 68, 72]]\n",
    "for i in range(5):\n",
    "    subTotal = 0\n",
    "    for j in range(3):\n",
    "        subTotal += grades[i][j]\n",
    "    grades[i].append(subTotal)\n",
    "for i in range(5):\n",
    "    print(\"學生\", i + 1, \"的總分為\", grades[i][3])"
   ]
  },
  {
   "cell_type": "code",
   "execution_count": 2,
   "id": "6bdda65a",
   "metadata": {},
   "outputs": [
    {
     "name": "stdout",
     "output_type": "stream",
     "text": [
      "第 1 次數字為 28\n",
      "第 2 次數字為 2\n",
      "第 3 次數字為 3\n",
      "第 4 次數字為 14\n",
      "第 5 次數字為 38\n",
      "第 6 次數字為 25\n",
      "[2, 3, 14, 25, 28, 38]\n"
     ]
    }
   ],
   "source": [
    "import random\n",
    "lotto = []\n",
    "for i in range(6):\n",
    "    lotto.append(random.choice([x for x in range(1, 50) if x not in lotto]))\n",
    "    print(\"第\", i + 1, \"次數字為\", lotto[i])\n",
    "lotto.sort()\n",
    "print(lotto)"
   ]
  },
  {
   "cell_type": "code",
   "execution_count": 3,
   "id": "49b95b02",
   "metadata": {},
   "outputs": [
    {
     "name": "stdout",
     "output_type": "stream",
     "text": [
      "(10, 20, 30, 40, 50)\n",
      "{50, 20, 40, 10, 30}\n",
      "1\n",
      "50\n",
      "False\n",
      "True\n",
      "False\n",
      "True\n",
      "False\n",
      "False\n"
     ]
    }
   ],
   "source": [
    "T1 = (10, 20, 30, 40, 50)\n",
    "S1 = {10, 20, 30, 40, 50}\n",
    "S2 = {20, 40}\n",
    "S3 = {10, 20, 30, 40, 50, 60, 80, 100}\n",
    "\n",
    "print(T1)\n",
    "print(S1)\n",
    "print(T1.index(20))\n",
    "print(S1.pop())\n",
    "print(S1.issubset(S2))\n",
    "print(S1.issuperset(S2))\n",
    "print(S1.isdisjoint(S2))\n",
    "print(S1.issubset(S3))\n",
    "print(S1.issuperset(S3))\n",
    "print(S1.isdisjoint(S3))"
   ]
  },
  {
   "cell_type": "code",
   "execution_count": 4,
   "id": "ed8fbb60",
   "metadata": {},
   "outputs": [
    {
     "data": {
      "text/plain": [
       "{'user1': '小丸子'}"
      ]
     },
     "execution_count": 4,
     "metadata": {},
     "output_type": "execute_result"
    }
   ],
   "source": [
    "D1 = {\"user1\": \"小丸子\", \"user2\": \"小玉\", \"user3\": \"花輪\"}\n",
    "D1.get(\"user1\")\n",
    "D1.pop(\"user2\")\n",
    "D1\n",
    "D1.popitem()\n",
    "D1"
   ]
  },
  {
   "cell_type": "code",
   "execution_count": 5,
   "id": "91a050aa",
   "metadata": {},
   "outputs": [
    {
     "name": "stdout",
     "output_type": "stream",
     "text": [
      "會不會 有一天 時間真的能倒退\n",
      "退回 你的我的 回不去的 悠悠的歲月\n",
      "也許會 有一天 世界真的有終點\n",
      "也要和你舉起回憶釀的甜\n",
      "和你再乾一杯\n",
      "\n",
      "\n",
      "如果說 要我選出 代表青春 那個畫面\n",
      "浮現了 那滴眼淚 那片藍天 那年畢業\n",
      "那一張 邊哭邊笑 還要擁抱 是你的臉\n",
      "想起來 可愛可憐 可歌可泣 可是多懷念\n",
      "\n",
      "懷念總是 突然懷念 不談條件\n",
      "當回憶 衝破考卷 衝出歲月 在我眼前\n",
      "我和你 留著汗水 喝著汽水 在操場邊\n",
      "說好了 無論如何 一起走到 未來的世界\n",
      "\n",
      "現在就是 那個未來 那個世界\n",
      "為什麼 你的身邊 我的身邊 不是同一邊\n",
      "友情曾像 諾亞方舟 堅強誓言\n",
      "只是我 望著海面 等著永遠 模糊了視線\n",
      "\n",
      "會不會 有一天 時間真的能倒退\n",
      "退回 你的我的 回不去的 悠悠的歲月\n",
      "也許會 有一天 世界真的有終點\n",
      "也要和你舉起回憶釀的甜\n",
      "和你再乾一杯\n",
      "\n",
      "\n",
      "這些年 買了四輪 買了手錶 買了單眼\n",
      "卻發現 追不到的 停不了的 還是那些\n",
      "人生是 只有認命 只能宿命 只好宿醉\n",
      "只剩下 高的笑點 低的哭點 卻沒成熟點\n",
      "\n",
      "成熟就是 幻想幻滅 一場磨鍊\n",
      "為什麼 只有夢想 越磨越小 小到不見\n",
      "有時候 好想流淚 好想流淚 卻沒眼淚\n",
      "期待會 你會不會 他會不會 開個同學會\n",
      "\n",
      "他在等你 你在等我 我在等誰\n",
      "又是誰 孩子沒睡 電話沒電 心情沒準備\n",
      "天空不斷 黑了又亮 亮了又黑\n",
      "那光陰 滄海桑田 遠走高飛 再沒力氣追\n",
      "\n",
      "會不會 有一天 時間真的能倒退\n",
      "退回 你的我的 回不去的 悠悠的歲月\n",
      "也許會 有一天 世界真的有終點\n",
      "也要和你舉起回憶釀的甜\n",
      "和你再乾一杯\n",
      "\n",
      "間奏\n",
      "\n",
      "會不會 有一天 時間真的能倒退\n",
      "退回 你的我的 回不去的 悠悠的歲月\n",
      "也許會 有一天 世界真的有終點\n",
      "也要和你舉起回憶釀的甜\n",
      "和你再乾一杯\n",
      "\n",
      "終究會 有一天 我們都變成昨天\n",
      "是你 陪我走過 一生一回\n",
      "匆匆的人間\n",
      "\n",
      "有一天就是今天\n",
      "今天就是有一天\n",
      "說出一直沒說 對你的感謝\n",
      "和你再乾一杯\n",
      "再乾一杯永遠\n",
      "喝了就能萬歲\n",
      "歲歲和年年\n",
      "\n",
      "時間都停了 他們都回來了\n",
      "懷念的人啊 等你的來到\n",
      "\n",
      "時間都停了 他們都回來了\n",
      "懷念的人啊 等你的來到\n",
      "{'會不會': 4, '有一天': 9, '時間真的能倒退': 4, '退回': 4, '你的我的': 4, '回不去的': 4, '悠悠的歲月': 4, '也許會': 4, '世界真的有終點': 4, '也要和你舉起回憶釀的甜': 4, '和你再乾一杯': 5, '如果說': 1, '要我選出': 1, '代表青春': 1, '那個畫面': 1, '浮現了': 1, '那滴眼淚': 1, '那片藍天': 1, '那年畢業': 1, '那一張': 1, '邊哭邊笑': 1, '還要擁抱': 1, '是你的臉': 1, '想起來': 1, '可愛可憐': 1, '可歌可泣': 1, '可是多懷念': 1, '懷念總是': 1, '突然懷念': 1, '不談條件': 1, '當回憶': 1, '衝破考卷': 1, '衝出歲月': 1, '在我眼前': 1, '我和你': 1, '留著汗水': 1, '喝著汽水': 1, '在操場邊': 1, '說好了': 1, '無論如何': 1, '一起走到': 1, '未來的世界': 1, '現在就是': 1, '那個未來': 1, '那個世界': 1, '為什麼': 2, '你的身邊': 1, '我的身邊': 1, '不是同一邊': 1, '友情曾像': 1, '諾亞方舟': 1, '堅強誓言': 1, '只是我': 1, '望著海面': 1, '等著永遠': 1, '模糊了視線': 1, '這些年': 1, '買了四輪': 1, '買了手錶': 1, '買了單眼': 1, '卻發現': 1, '追不到的': 1, '停不了的': 1, '還是那些': 1, '人生是': 1, '只有認命': 1, '只能宿命': 1, '只好宿醉': 1, '只剩下': 1, '高的笑點': 1, '低的哭點': 1, '卻沒成熟點': 1, '成熟就是': 1, '幻想幻滅': 1, '一場磨鍊': 1, '只有夢想': 1, '越磨越小': 1, '小到不見': 1, '有時候': 1, '好想流淚': 2, '卻沒眼淚': 1, '期待會': 1, '你會不會': 1, '他會不會': 1, '開個同學會': 1, '他在等你': 1, '你在等我': 1, '我在等誰': 1, '又是誰': 1, '孩子沒睡': 1, '電話沒電': 1, '心情沒準備': 1, '天空不斷': 1, '黑了又亮': 1, '亮了又黑': 1, '那光陰': 1, '滄海桑田': 1, '遠走高飛': 1, '再沒力氣追': 1, '間奏': 1, '終究會': 1, '我們都變成昨天': 1, '是你': 1, '陪我走過': 1, '一生一回': 1, '匆匆的人間': 1, '有一天就是今天': 1, '今天就是有一天': 1, '說出一直沒說': 1, '對你的感謝': 1, '再乾一杯永遠': 1, '喝了就能萬歲': 1, '歲歲和年年': 1, '時間都停了': 2, '他們都回來了': 2, '懷念的人啊': 2, '等你的來到': 2}\n"
     ]
    }
   ],
   "source": [
    "def readfile():\n",
    "    fileName = input(\"請輸入歌詞的檔名：\")\n",
    "    fileobject = open(\"E:\\\\Python\\\\Python1-基礎Python程式設計\\\\\" + fileName, \"r\")\n",
    "    song = fileobject.read()\n",
    "    fileobject.close()\n",
    "    return song\n",
    "\n",
    "def replaceSymbols(string):\n",
    "    for char in string:\n",
    "        if char in \",.~!@#$%^&()[]{}\\\"\":\n",
    "            string = string.replace(char, ' ')\n",
    "            return string\n",
    "\n",
    "def replaceSymbols(text):\n",
    "    for ch in \",.?\":\n",
    "        text = text.replace(ch, \"\")\n",
    "    return text\n",
    "\n",
    "def counts(string):\n",
    "    wordlist = string.split()\n",
    "    for word in wordlist:\n",
    "        if word in result:\n",
    "            result[word] = result[word] + 1        \n",
    "        else:\n",
    "            result[word] = 1\n",
    "\n",
    "result = {}\n",
    "song = readfile()\n",
    "print(song)\n",
    "tmp = replaceSymbols(song.lower())\n",
    "counts(tmp)\n",
    "print(result)"
   ]
  },
  {
   "cell_type": "code",
   "execution_count": 6,
   "id": "5edc7429",
   "metadata": {},
   "outputs": [
    {
     "name": "stdout",
     "output_type": "stream",
     "text": [
      "I have a pen, I have an apple, Apple pen\n",
      "\n",
      "I have a pen, I have a pineapple, Pineapple pen\n",
      "\n",
      "Apple pen, Pineapple pen, Pen Pineapple Apple Pen\n",
      "{'i': 4, 'have': 4, 'a': 3, 'pen': 8, 'an': 1, 'apple': 4, 'pineapple': 4}\n"
     ]
    }
   ],
   "source": [
    "def readfile():\n",
    "    fileName = input(\"請輸入歌詞的檔名：\")\n",
    "    fileobject = open(\"E:\\\\Python\\\\Python1-基礎Python程式設計\\\\\" + fileName, \"r\")\n",
    "    song = fileobject.read()\n",
    "    fileobject.close()\n",
    "    return song\n",
    "\n",
    "def replaceSymbols(string):\n",
    "    for char in string:\n",
    "        if char in \",.~!@#$%^&()[]{}\\\"\":\n",
    "            string = string.replace(char, ' ')\n",
    "            return string\n",
    "\n",
    "def counts(string):\n",
    "    wordlist = string.split()\n",
    "    for word in wordlist:\n",
    "        if word in result:\n",
    "            result[word] = result[word] + 1        \n",
    "        else:\n",
    "            result[word] = 1\n",
    "\n",
    "result = {}\n",
    "song = readfile()\n",
    "print(song)\n",
    "tmp = replaceSymbols(song.lower())\n",
    "counts(tmp)\n",
    "print(result)"
   ]
  },
  {
   "cell_type": "code",
   "execution_count": 7,
   "id": "f8c8c395",
   "metadata": {},
   "outputs": [
    {
     "name": "stdout",
     "output_type": "stream",
     "text": [
      "X 除以 Y 的結果等於 10.0\n",
      "除數不得為0\n",
      "離開try...except區塊\n"
     ]
    }
   ],
   "source": [
    "X = eval(input(\"請輸入被除數 X：\"))\n",
    "Y = eval(input(\"請輸入除數 Y：\"))\n",
    "Z = X / Y\n",
    "print(\"X 除以 Y 的結果等於\", Z)\n",
    "\n",
    "try:\n",
    "    X = eval(input(\"請輸入被除數 X：\"))\n",
    "    Y = eval(input(\"請輸入除數 Y：\"))\n",
    "    Z = X / Y\n",
    "except ZeroDivisionError:\n",
    "    print(\"除數不得為0\")\n",
    "except Exception as e1:\n",
    "    print(e1.args)\n",
    "else:\n",
    "    print(\"沒有捕捉到例外！X 除以 Y 的結果等於\", Z)\n",
    "finally:\n",
    "    print(\"離開try...except區塊\")"
   ]
  },
  {
   "cell_type": "code",
   "execution_count": 8,
   "id": "1784dc9f",
   "metadata": {},
   "outputs": [
    {
     "name": "stdout",
     "output_type": "stream",
     "text": [
      "半徑為 1 的圓面積為 3.14\n",
      "半徑為 10 的圓面積為 314.0\n"
     ]
    }
   ],
   "source": [
    "class Circle:\n",
    "    PI = 3.14\n",
    "    \n",
    "    def __init__(self, r = 1):\n",
    "        self.radius = r\n",
    "    \n",
    "    def getArea(self):\n",
    "        return self.PI * self.radius * self.radius\n",
    "    \n",
    "C1 = Circle()\n",
    "print(\"半徑為\", C1.radius, \"的圓面積為\", C1.getArea())\n",
    "C2 = Circle(10)\n",
    "print(\"半徑為\", C2.radius, \"的圓面積為\", C2.getArea())"
   ]
  },
  {
   "cell_type": "code",
   "execution_count": 9,
   "id": "44acc6b0",
   "metadata": {},
   "outputs": [
    {
     "name": "stdout",
     "output_type": "stream",
     "text": [
      "C1的圓面積為 314.0\n"
     ]
    }
   ],
   "source": [
    "class Circle:\n",
    "    PI = 3.14\n",
    "    \n",
    "    def __init__(self, r = 1):\n",
    "        self.__radius = r\n",
    "        \n",
    "    def getRadius(self):\n",
    "        return self.__radius\n",
    "    \n",
    "    def getArea(self):\n",
    "        return self.PI * self.__radius * self.__radius\n",
    "    \n",
    "C1 = Circle(10)\n",
    "print(\"C1的圓面積為\", C1.getArea())"
   ]
  },
  {
   "cell_type": "code",
   "execution_count": 10,
   "id": "2b8209fb",
   "metadata": {},
   "outputs": [
    {
     "name": "stdout",
     "output_type": "stream",
     "text": [
      "員工 小丸子 的本月薪水為 18000\n",
      "銷售人員 小紅豆 的本月薪水為 21000\n"
     ]
    }
   ],
   "source": [
    "class Employee:\n",
    "    def __init__(self, name):\n",
    "        self.__name = name\n",
    "        \n",
    "    def getName(self):\n",
    "        return self.__name\n",
    "    \n",
    "    def getSalary(self, hours, payrate):\n",
    "        return hours * payrate\n",
    "    \n",
    "class SalesPerson(Employee):\n",
    "    def getSalary(self, hours, payrate, bonus):\n",
    "        return hours * payrate + bonus\n",
    "    \n",
    "E1 = Employee(\"小丸子\")\n",
    "E2 = SalesPerson(\"小紅豆\")\n",
    "print(\"員工\", E1.getName(), \"的本月薪水為\", E1.getSalary(120, 150))\n",
    "print(\"銷售人員\", E2.getName(), \"的本月薪水為\", E2.getSalary(120, 150, 3000))"
   ]
  }
 ],
 "metadata": {
  "kernelspec": {
   "display_name": "base",
   "language": "python",
   "name": "python3"
  },
  "language_info": {
   "codemirror_mode": {
    "name": "ipython",
    "version": 3
   },
   "file_extension": ".py",
   "mimetype": "text/x-python",
   "name": "python",
   "nbconvert_exporter": "python",
   "pygments_lexer": "ipython3",
   "version": "3.12.7"
  }
 },
 "nbformat": 4,
 "nbformat_minor": 5
}
