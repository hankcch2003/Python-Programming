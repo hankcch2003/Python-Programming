{
 "cells": [
  {
   "cell_type": "code",
   "execution_count": 1,
   "id": "f515caa4",
   "metadata": {},
   "outputs": [
    {
     "name": "stdout",
     "output_type": "stream",
     "text": [
      "學生 1 的總分為 295\n",
      "學生 2 的總分為 251\n",
      "學生 3 的總分為 292\n",
      "學生 4 的總分為 248\n",
      "學生 5 的總分為 210\n"
     ]
    }
   ],
   "source": [
    "grades = [[95, 100, 100], [86, 90, 75], [98, 98, 96], [78, 90, 80], [70, 68, 72]]\n",
    "for i in range(5):\n",
    "    subTotal = 0\n",
    "    for j in range(3):\n",
    "        subTotal += grades[i][j]\n",
    "    grades[i].append(subTotal)\n",
    "for i in range(5):\n",
    "    print(\"學生\", i + 1, \"的總分為\", grades[i][3])"
   ]
  },
  {
   "cell_type": "code",
   "execution_count": 2,
   "id": "6bdda65a",
   "metadata": {},
   "outputs": [
    {
     "name": "stdout",
     "output_type": "stream",
     "text": [
      "第 1 次數字為 30\n",
      "第 2 次數字為 15\n",
      "第 3 次數字為 31\n",
      "第 4 次數字為 9\n",
      "第 5 次數字為 46\n",
      "第 6 次數字為 49\n",
      "[9, 15, 30, 31, 46, 49]\n"
     ]
    }
   ],
   "source": [
    "import random\n",
    "lotto = []\n",
    "for i in range(6):\n",
    "    lotto.append(random.choice([x for x in range(1, 50) if x not in lotto]))\n",
    "    print(\"第\", i + 1, \"次數字為\", lotto[i])\n",
    "lotto.sort()\n",
    "print(lotto)"
   ]
  },
  {
   "cell_type": "code",
   "execution_count": 3,
   "id": "49b95b02",
   "metadata": {},
   "outputs": [
    {
     "name": "stdout",
     "output_type": "stream",
     "text": [
      "(10, 20, 30, 40, 50)\n",
      "{50, 20, 40, 10, 30}\n",
      "1\n",
      "50\n",
      "False\n",
      "True\n",
      "False\n",
      "True\n",
      "False\n",
      "False\n"
     ]
    }
   ],
   "source": [
    "T1 = (10, 20, 30, 40, 50)\n",
    "S1 = {10, 20, 30, 40, 50}\n",
    "S2 = {20, 40}\n",
    "S3 = {10, 20, 30, 40, 50, 60, 80, 100}\n",
    "\n",
    "print(T1)\n",
    "print(S1)\n",
    "print(T1.index(20))\n",
    "print(S1.pop())\n",
    "print(S1.issubset(S2))\n",
    "print(S1.issuperset(S2))\n",
    "print(S1.isdisjoint(S2))\n",
    "print(S1.issubset(S3))\n",
    "print(S1.issuperset(S3))\n",
    "print(S1.isdisjoint(S3))"
   ]
  },
  {
   "cell_type": "code",
   "execution_count": 4,
   "id": "ed8fbb60",
   "metadata": {},
   "outputs": [
    {
     "data": {
      "text/plain": [
       "{'user1': '小丸子'}"
      ]
     },
     "execution_count": 4,
     "metadata": {},
     "output_type": "execute_result"
    }
   ],
   "source": [
    "D1 = {\"user1\": \"小丸子\", \"user2\": \"小玉\", \"user3\": \"花輪\"}\n",
    "D1.get(\"user1\")\n",
    "D1.pop(\"user2\")\n",
    "D1\n",
    "D1.popitem()\n",
    "D1"
   ]
  }
 ],
 "metadata": {
  "kernelspec": {
   "display_name": "base",
   "language": "python",
   "name": "python3"
  },
  "language_info": {
   "codemirror_mode": {
    "name": "ipython",
    "version": 3
   },
   "file_extension": ".py",
   "mimetype": "text/x-python",
   "name": "python",
   "nbconvert_exporter": "python",
   "pygments_lexer": "ipython3",
   "version": "3.13.5"
  }
 },
 "nbformat": 4,
 "nbformat_minor": 5
}
