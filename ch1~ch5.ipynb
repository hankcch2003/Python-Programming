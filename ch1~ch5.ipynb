{
 "cells": [
  {
   "cell_type": "code",
   "execution_count": 1,
   "metadata": {},
   "outputs": [
    {
     "name": "stdout",
     "output_type": "stream",
     "text": [
      "圓柱體積為 1570.0\n",
      "圓柱表面積為 942.0\n"
     ]
    }
   ],
   "source": [
    "print(\"圓柱體積為\", 3.14 * 10 * 10 * 5)\n",
    "print(\"圓柱表面積為\", 3.14 * 10 * 10 * 2 + 2 * 3.14 * 10 * 5)"
   ]
  },
  {
   "cell_type": "code",
   "execution_count": 2,
   "metadata": {},
   "outputs": [
    {
     "name": "stdout",
     "output_type": "stream",
     "text": [
      "單利本利和為 1180000.0\n",
      "複利本利和為 1191016.0\n"
     ]
    }
   ],
   "source": [
    "print(\"單利本利和為\", 1000000 * (1 + 0.06 * 3))\n",
    "print(\"複利本利和為\", 1000000 * (1 + 0.06) * (1 + 0.06) * (1 + 0.06))"
   ]
  },
  {
   "cell_type": "code",
   "execution_count": 3,
   "metadata": {},
   "outputs": [
    {
     "name": "stdout",
     "output_type": "stream",
     "text": [
      "4 == 6 is False\n"
     ]
    }
   ],
   "source": [
    "import random\n",
    "num = random.randint(1, 10)\n",
    "answer = eval(input(\"請猜數字1-10：\"))\n",
    "print(num, \"==\", answer, \"is\", num == answer)"
   ]
  },
  {
   "cell_type": "code",
   "execution_count": 4,
   "metadata": {},
   "outputs": [
    {
     "name": "stdout",
     "output_type": "stream",
     "text": [
      "0.17692162048685334\n"
     ]
    }
   ],
   "source": [
    "print(random.random())"
   ]
  },
  {
   "cell_type": "code",
   "execution_count": 5,
   "metadata": {},
   "outputs": [
    {
     "name": "stdout",
     "output_type": "stream",
     "text": [
      "['orange', 'apple', 'watermelon']\n"
     ]
    }
   ],
   "source": [
    "mylist = [\"apple\", \"orange\", \"watermelon\"]\n",
    "random.shuffle(mylist)\n",
    "print(mylist)"
   ]
  },
  {
   "cell_type": "code",
   "execution_count": 6,
   "metadata": {},
   "outputs": [
    {
     "name": "stdout",
     "output_type": "stream",
     "text": [
      "華氏溫度為     100.00\n",
      "攝氏溫度為      37.78\n"
     ]
    }
   ],
   "source": [
    "F = 100\n",
    "C = (F - 32) * 5 / 9\n",
    "print(\"華氏溫度為\", format(F, \"10.2f\"))\n",
    "print(\"攝氏溫度為\", format(C, \"10.2f\"))"
   ]
  },
  {
   "cell_type": "code",
   "execution_count": 7,
   "metadata": {},
   "outputs": [
    {
     "name": "stdout",
     "output_type": "stream",
     "text": [
      "華氏溫度為     100.00\n",
      "攝氏溫度為      37.78\n"
     ]
    }
   ],
   "source": [
    "F = eval(input(\"請輸入華氏溫度：\"))\n",
    "C = (F - 32) * 5 / 9\n",
    "print(\"華氏溫度為\", format(F, \"10.2f\"))\n",
    "print(\"攝氏溫度為\", format(C, \"10.2f\"))"
   ]
  },
  {
   "cell_type": "code",
   "execution_count": 8,
   "metadata": {},
   "outputs": [
    {
     "name": "stdout",
     "output_type": "stream",
     "text": [
      "華氏溫度為     105.00\n",
      "攝氏溫度為      40.56\n"
     ]
    }
   ],
   "source": [
    "f = float(input(\"溫度轉換\\n1.華氏轉攝氏\\n2.攝氏轉華氏\\n\"))\n",
    "\n",
    "if f == 1:\n",
    "    ff = float(input(\"請輸入華氏溫度:\"))\n",
    "    c = 5/9 * (ff - 32)\n",
    "    print(\"華氏溫度為\", format(ff, \"10.2f\"))\n",
    "    print(\"攝氏溫度為\", format(c, \"10.2f\"))\n",
    "elif f == 2:\n",
    "    ff = float(input(\"請輸入攝氏溫度:\"))\n",
    "    c = 9 * ff / 5 + 32\n",
    "    print(\"攝氏溫度為\", format(ff, \"10.2f\"))\n",
    "    print(\"華氏溫度為\", format(c, \"10.2f\"))\n",
    "else:\n",
    "    print(\"輸入錯誤\")"
   ]
  },
  {
   "cell_type": "code",
   "execution_count": 9,
   "metadata": {},
   "outputs": [
    {
     "name": "stdout",
     "output_type": "stream",
     "text": [
      "攝氏溫度為      40.00\n",
      "華氏溫度為     104.00\n"
     ]
    }
   ],
   "source": [
    "f = float(input(\"溫度轉換\\n1.華氏轉攝氏\\n2.攝氏轉華氏\\n\"))\n",
    "\n",
    "if f == 1:\n",
    "    ff = float(input(\"請輸入華氏溫度:\"))\n",
    "    c = 5/9 * (ff - 32)\n",
    "    print(\"華氏溫度為\", format(ff, \"10.2f\"))\n",
    "    print(\"攝氏溫度為\", format(c, \"10.2f\"))\n",
    "elif f == 2:\n",
    "    ff = float(input(\"請輸入攝氏溫度:\"))\n",
    "    c = 9 * ff / 5 + 32\n",
    "    print(\"攝氏溫度為\", format(ff, \"10.2f\"))\n",
    "    print(\"華氏溫度為\", format(c, \"10.2f\"))\n",
    "else:\n",
    "    print(\"輸入錯誤\")"
   ]
  },
  {
   "cell_type": "code",
   "execution_count": 10,
   "metadata": {},
   "outputs": [
    {
     "name": "stdout",
     "output_type": "stream",
     "text": [
      "輸入錯誤\n"
     ]
    }
   ],
   "source": [
    "f = float(input(\"溫度轉換\\n1.華氏轉攝氏\\n2.攝氏轉華氏\\n\"))\n",
    "\n",
    "if f == 1:\n",
    "    ff = float(input(\"請輸入華氏溫度:\"))\n",
    "    c = 5/9 * (ff - 32)\n",
    "    print(\"華氏溫度為\", format(ff, \"10.2f\"))\n",
    "    print(\"攝氏溫度為\", format(c, \"10.2f\"))\n",
    "elif f == 2:\n",
    "    ff = float(input(\"請輸入攝氏溫度:\"))\n",
    "    c = 9 * ff / 5 + 32\n",
    "    print(\"攝氏溫度為\", format(ff, \"10.2f\"))\n",
    "    print(\"華氏溫度為\", format(c, \"10.2f\"))\n",
    "else:\n",
    "    print(\"輸入錯誤\")"
   ]
  },
  {
   "cell_type": "code",
   "execution_count": 11,
   "metadata": {},
   "outputs": [
    {
     "data": {
      "text/plain": [
       "[0, 1, 2, 3, 4]"
      ]
     },
     "execution_count": 11,
     "metadata": {},
     "output_type": "execute_result"
    }
   ],
   "source": [
    "list(range(5))"
   ]
  },
  {
   "cell_type": "code",
   "execution_count": 12,
   "metadata": {},
   "outputs": [
    {
     "data": {
      "text/plain": [
       "[1, 3, 5, 7, 9]"
      ]
     },
     "execution_count": 12,
     "metadata": {},
     "output_type": "execute_result"
    }
   ],
   "source": [
    "list(range(1, 10, 2))"
   ]
  },
  {
   "cell_type": "code",
   "execution_count": 13,
   "metadata": {},
   "outputs": [
    {
     "data": {
      "text/plain": [
       "[10, 8, 6, 4, 2, 0, -2, -4, -6, -8]"
      ]
     },
     "execution_count": 13,
     "metadata": {},
     "output_type": "execute_result"
    }
   ],
   "source": [
    "list(range(10, -10, -2))"
   ]
  },
  {
   "cell_type": "code",
   "execution_count": 14,
   "metadata": {},
   "outputs": [
    {
     "name": "stdout",
     "output_type": "stream",
     "text": [
      "H -e -l -l -o -, -  -W -o -r -l -d -! -"
     ]
    }
   ],
   "source": [
    "str1 = \"Hello, World!\"\n",
    "for i in str1:\n",
    "  print(i, '-', end = '')"
   ]
  },
  {
   "cell_type": "code",
   "execution_count": 15,
   "metadata": {},
   "outputs": [
    {
     "name": "stdout",
     "output_type": "stream",
     "text": [
      "總和等於 21\n"
     ]
    }
   ],
   "source": [
    "sum = 0\n",
    "for i in range(1, 7):\n",
    "  sum = sum + i\n",
    "else:\n",
    "  print(\"總和等於\", sum)"
   ]
  },
  {
   "cell_type": "code",
   "execution_count": 16,
   "metadata": {},
   "outputs": [
    {
     "name": "stdout",
     "output_type": "stream",
     "text": [
      "總和等於 83\n"
     ]
    }
   ],
   "source": [
    "list1 = [15, 20, 33, 7, 8]\n",
    "sum = 0\n",
    "for i in list1:\n",
    "  sum = sum + i\n",
    "print(\"總和等於\", sum)"
   ]
  },
  {
   "cell_type": "code",
   "execution_count": 17,
   "metadata": {},
   "outputs": [
    {
     "name": "stdout",
     "output_type": "stream",
     "text": [
      "1*1=1\t1*2=2\t1*3=3\t1*4=4\t1*5=5\t1*6=6\t1*7=7\t1*8=8\t1*9=9\t\n",
      "2*1=2\t2*2=4\t2*3=6\t2*4=8\t2*5=10\t2*6=12\t2*7=14\t2*8=16\t2*9=18\t\n",
      "3*1=3\t3*2=6\t3*3=9\t3*4=12\t3*5=15\t3*6=18\t3*7=21\t3*8=24\t3*9=27\t\n",
      "4*1=4\t4*2=8\t4*3=12\t4*4=16\t4*5=20\t4*6=24\t4*7=28\t4*8=32\t4*9=36\t\n",
      "5*1=5\t5*2=10\t5*3=15\t5*4=20\t5*5=25\t5*6=30\t5*7=35\t5*8=40\t5*9=45\t\n",
      "6*1=6\t6*2=12\t6*3=18\t6*4=24\t6*5=30\t6*6=36\t6*7=42\t6*8=48\t6*9=54\t\n",
      "7*1=7\t7*2=14\t7*3=21\t7*4=28\t7*5=35\t7*6=42\t7*7=49\t7*8=56\t7*9=63\t\n",
      "8*1=8\t8*2=16\t8*3=24\t8*4=32\t8*5=40\t8*6=48\t8*7=56\t8*8=64\t8*9=72\t\n",
      "9*1=9\t9*2=18\t9*3=27\t9*4=36\t9*5=45\t9*6=54\t9*7=63\t9*8=72\t9*9=81\t\n",
      "\n"
     ]
    }
   ],
   "source": [
    "result1, result2 = '', ''\n",
    "for i in range(1, 10):\n",
    "  result1 = ''\n",
    "  for j in range(1, 10):\n",
    "    result1 = result1 + str(i) + '*' + str(j) + '=' + str(i * j) + '\\t'\n",
    "  result2 = result2 + result1 + '\\n'\n",
    "print(result2)"
   ]
  },
  {
   "cell_type": "code",
   "execution_count": 18,
   "metadata": {},
   "outputs": [
    {
     "name": "stdout",
     "output_type": "stream",
     "text": [
      "太小了!\n",
      "太大了!\n",
      "太小了!\n",
      "太大了!\n",
      "太大了!\n",
      "猜對了!\n"
     ]
    }
   ],
   "source": [
    "import random\n",
    "num = random.randint(1, 10)\n",
    "answer = -1\n",
    "while answer != num:\n",
    "  answer = eval(input(\"請猜數字1-10:\"))\n",
    "  if answer > num:\n",
    "    print(\"太大了!\")\n",
    "  elif answer < num:\n",
    "    print(\"太小了!\")\n",
    "  else:\n",
    "    print(\"猜對了!\")"
   ]
  },
  {
   "cell_type": "code",
   "execution_count": 19,
   "metadata": {},
   "outputs": [
    {
     "name": "stdout",
     "output_type": "stream",
     "text": [
      "攝氏 100 度可以轉換成華氏 212.0 度\n"
     ]
    }
   ],
   "source": [
    "def CtoF1(degreeC):\n",
    "  degreeF = degreeC * 1.8 + 32\n",
    "  print(\"攝氏\", degreeC, \"度可以轉換成華氏\", degreeF, \"度\")\n",
    "temperatureC = eval(input(\"請輸入攝氏溫度:\"))\n",
    "CtoF1(temperatureC)"
   ]
  },
  {
   "cell_type": "code",
   "execution_count": 20,
   "metadata": {},
   "outputs": [
    {
     "name": "stdout",
     "output_type": "stream",
     "text": [
      "攝氏 45 度可以轉換成華氏 113.0 度\n"
     ]
    }
   ],
   "source": [
    "def CtoF2(degreeC):\n",
    "  degreeF = degreeC * 1.8 + 32\n",
    "  return degreeF\n",
    "temperatureC = eval(input(\"請輸入攝氏溫度:\"))\n",
    "temperatureF = CtoF2(temperatureC)\n",
    "print(\"攝氏\", temperatureC, \"度可以轉換成華氏\", temperatureF, \"度\")"
   ]
  },
  {
   "cell_type": "code",
   "execution_count": 21,
   "metadata": {},
   "outputs": [],
   "source": [
    "def FtoC2(degreeF2):\n",
    "  degreeC2 = (degreeF2 - 32) / 1.8\n",
    "  print(\"華氏\", degreeF2, \"度可以轉換成攝氏\", degreeC2, \"度\")"
   ]
  },
  {
   "cell_type": "code",
   "execution_count": 22,
   "metadata": {},
   "outputs": [
    {
     "name": "stdout",
     "output_type": "stream",
     "text": [
      "「溫度轉換器」\n",
      "1.華氏轉攝氏\n",
      "2.攝氏轉華氏\n",
      "華氏 100 度可以轉換成攝氏 37.77777777777778 度\n",
      "攝氏 40 度可以轉換成華氏 104.0 度\n",
      "輸入錯誤\n",
      "輸入錯誤\n"
     ]
    }
   ],
   "source": [
    "print(\"「溫度轉換器」\")\n",
    "print(\"1.華氏轉攝氏\")\n",
    "print(\"2.攝氏轉華氏\")\n",
    "mod = 0\n",
    "while mod != -1:\n",
    "  mod = eval(input(\"請輸入轉換方式(請輸入1或2,輸入-1為結束):\"))\n",
    "  if mod == 1:\n",
    "    tF = eval(input(\"請輸入華氏溫度:\"))\n",
    "    FtoC2(tF)\n",
    "  elif mod == 2:\n",
    "    tC = eval(input(\"請輸入攝氏溫度:\"))\n",
    "    CtoF1(tC)\n",
    "  else:\n",
    "    print(\"輸入錯誤\")"
   ]
  },
  {
   "cell_type": "code",
   "execution_count": 23,
   "metadata": {},
   "outputs": [
    {
     "name": "stdout",
     "output_type": "stream",
     "text": [
      "請輸入查詢年份:\n",
      "2000 是閏年\n",
      "請輸入查詢年份:\n",
      "2500 不是閏年\n",
      "請輸入查詢年份:\n",
      "3000 不是閏年\n",
      "請輸入查詢年份:\n",
      "4000 是閏年\n",
      "請輸入查詢年份:\n",
      "5000 不是閏年\n",
      "請輸入查詢年份:\n"
     ]
    }
   ],
   "source": [
    "y = 0\n",
    "while (y != -1):\n",
    "  print(\"請輸入查詢年份:\")\n",
    "  y = eval(input())\n",
    "  if y != -1:\n",
    "    if y % 4 == 0 and y % 100 != 0:\n",
    "      print(y, \"是閏年\")\n",
    "    elif y % 400 == 0:\n",
    "      print(y, \"是閏年\")\n",
    "    else:\n",
    "      print(y, \"不是閏年\")"
   ]
  },
  {
   "cell_type": "code",
   "execution_count": 24,
   "metadata": {},
   "outputs": [
    {
     "name": "stdout",
     "output_type": "stream",
     "text": [
      "1 2\n",
      "1 2\n"
     ]
    }
   ],
   "source": [
    "def swap(x, y):\n",
    "    temp = x\n",
    "    x = y\n",
    "    y = temp   \n",
    "a, b = 1, 2\n",
    "print(a, b)\n",
    "swap(a, b)\n",
    "print(a, b)"
   ]
  },
  {
   "cell_type": "code",
   "execution_count": 25,
   "metadata": {},
   "outputs": [
    {
     "name": "stdout",
     "output_type": "stream",
     "text": [
      "[1, 2]\n",
      "[2, 1]\n"
     ]
    }
   ],
   "source": [
    "def swap(x):\n",
    "    temp = x[0]\n",
    "    x[0] = x[1]\n",
    "    x[1] = temp\n",
    "a = [1, 2]\n",
    "print(a)\n",
    "swap(a)\n",
    "print(a)"
   ]
  },
  {
   "cell_type": "code",
   "execution_count": 26,
   "metadata": {},
   "outputs": [
    {
     "name": "stdout",
     "output_type": "stream",
     "text": [
      "這個梯形面積為 75.0\n",
      "這個梯形面積為 75.0\n",
      "這個梯形面積為 75.0\n"
     ]
    }
   ],
   "source": [
    "def trapezoidArea(top, bottom, height):\n",
    "    area = (top + bottom) * height / 2\n",
    "    print(\"這個梯形面積為\", area)\n",
    "trapezoidArea(10, 20, 5)\n",
    "trapezoidArea(10, height = 5, bottom = 20)\n",
    "trapezoidArea(height = 5, bottom = 20, top = 10)"
   ]
  },
  {
   "cell_type": "code",
   "execution_count": 27,
   "metadata": {},
   "outputs": [
    {
     "name": "stdout",
     "output_type": "stream",
     "text": [
      "我的甜點是 馬卡龍 , 飲料是 咖啡\n",
      "我的甜點是 帕尼尼 , 飲料是 紅茶\n",
      "我的甜點是 三明治 , 飲料是 奶茶\n",
      "我的甜點是 紅豆餅 , 飲料是 綠茶\n"
     ]
    }
   ],
   "source": [
    "def teaTime(dessert, drink = \"紅茶\"):\n",
    "    print(\"我的甜點是\", dessert, \", 飲料是\", drink)\n",
    "teaTime(\"馬卡龍\",\"咖啡\")\n",
    "teaTime(\"帕尼尼\")\n",
    "teaTime(dessert = \"三明治\", drink = \"奶茶\")\n",
    "teaTime(\"紅豆餅\", drink = \"綠茶\")"
   ]
  },
  {
   "cell_type": "code",
   "execution_count": 28,
   "metadata": {},
   "outputs": [
    {
     "name": "stdout",
     "output_type": "stream",
     "text": [
      "2\t3\t5\t7\t11\t13\t17\t19\t23\t29\t31\t37\t41\t43\t47\t53\t59\t61\t67\t71\t73\t79\t83\t89\t97\t"
     ]
    }
   ],
   "source": [
    "for i in range(2, 101):\n",
    "    for j in range(2, i):\n",
    "        if i % j == 0:\n",
    "            break\n",
    "    else:\n",
    "        print(i, end = '\\t')"
   ]
  },
  {
   "cell_type": "code",
   "execution_count": 29,
   "metadata": {},
   "outputs": [
    {
     "name": "stdout",
     "output_type": "stream",
     "text": [
      "3\n",
      "5\n",
      "7\n",
      "9\n",
      "11\n",
      "13\n",
      "15\n",
      "17\n",
      "19\n",
      "21\n",
      "23\n",
      "25\n",
      "27\n",
      "29\n",
      "31\n",
      "33\n",
      "35\n",
      "37\n",
      "39\n",
      "41\n",
      "43\n",
      "45\n",
      "47\n",
      "49\n",
      "51\n",
      "53\n",
      "55\n",
      "57\n",
      "59\n",
      "61\n",
      "63\n",
      "65\n",
      "67\n",
      "69\n",
      "71\n",
      "73\n",
      "75\n",
      "77\n",
      "79\n",
      "81\n",
      "83\n",
      "85\n",
      "87\n",
      "89\n",
      "91\n",
      "93\n",
      "95\n",
      "97\n",
      "99\n"
     ]
    }
   ],
   "source": [
    "def isPrime(n):\n",
    "    for i in range(2, n):\n",
    "        if n % i == 0:\n",
    "            return False\n",
    "        else:\n",
    "            return True\n",
    "\n",
    "for i in range(2, 100):\n",
    "   if isPrime(i):\n",
    "       print(i)"
   ]
  },
  {
   "cell_type": "code",
   "execution_count": 30,
   "metadata": {},
   "outputs": [
    {
     "name": "stdout",
     "output_type": "stream",
     "text": [
      "這是偶數\n"
     ]
    }
   ],
   "source": [
    "num = eval(input(\"請輸入一個整數:\"))\n",
    "if num % 2 == 0:\n",
    "    print(\"這是偶數\")\n",
    "else:\n",
    "    print(\"這是奇數\")"
   ]
  },
  {
   "cell_type": "code",
   "execution_count": 31,
   "metadata": {},
   "outputs": [
    {
     "name": "stdout",
     "output_type": "stream",
     "text": [
      "這是奇數\n"
     ]
    }
   ],
   "source": [
    "num = eval(input(\"請輸入一個整數:\"))\n",
    "if num % 2 == 0:\n",
    "    print(\"這是偶數\")\n",
    "else:\n",
    "    print(\"這是奇數\")"
   ]
  },
  {
   "cell_type": "code",
   "execution_count": 32,
   "metadata": {},
   "outputs": [],
   "source": [
    "def isEven(n):\n",
    "    if n % 2 == 0:\n",
    "        return True\n",
    "    else:\n",
    "        return False"
   ]
  },
  {
   "cell_type": "code",
   "execution_count": 33,
   "metadata": {},
   "outputs": [
    {
     "name": "stdout",
     "output_type": "stream",
     "text": [
      "68 是偶數\n"
     ]
    }
   ],
   "source": [
    "num = eval(input(\"請輸入一個整數:\"))\n",
    "if isEven(num):\n",
    "    print(num, \"是偶數\")\n",
    "else:\n",
    "    print(num, \"是奇數\")"
   ]
  },
  {
   "cell_type": "code",
   "execution_count": 34,
   "metadata": {},
   "outputs": [
    {
     "name": "stdout",
     "output_type": "stream",
     "text": [
      "41 是奇數\n"
     ]
    }
   ],
   "source": [
    "num = eval(input(\"請輸入一個整數:\"))\n",
    "if isEven(num):\n",
    "    print(num, \"是偶數\")\n",
    "else:\n",
    "    print(num, \"是奇數\")"
   ]
  },
  {
   "cell_type": "code",
   "execution_count": 35,
   "metadata": {},
   "outputs": [
    {
     "name": "stdout",
     "output_type": "stream",
     "text": [
      "兩點距離為 6.4031242374328485\n"
     ]
    }
   ],
   "source": [
    "x1, y1 = eval(input(\"請輸入第一個點的座標：\"))\n",
    "x2, y2 = eval(input(\"請輸入第二個點的座標：\"))\n",
    "distance = ((x2 - x1) ** 2 + (y2 - y1) ** 2) ** 0.5\n",
    "print(\"兩點距離為\", distance)"
   ]
  },
  {
   "cell_type": "code",
   "execution_count": 36,
   "metadata": {},
   "outputs": [
    {
     "name": "stdout",
     "output_type": "stream",
     "text": [
      "2500 的平方根為 50.00000\n",
      "2500 的平方根為 50.00000\n"
     ]
    }
   ],
   "source": [
    "import math\n",
    "num = eval(input(\"請輸入計算平方根的值：\"))\n",
    "print(num, \"的平方根為\", format(num ** 0.5, \".5f\"))\n",
    "print(num, \"的平方根為\", format(math.sqrt(num), \".5f\"))"
   ]
  },
  {
   "cell_type": "code",
   "execution_count": 37,
   "metadata": {},
   "outputs": [
    {
     "name": "stdout",
     "output_type": "stream",
     "text": [
      "邊長 8 的正六邊形面積為 166.27687752661222\n"
     ]
    }
   ],
   "source": [
    "import math\n",
    "s = eval(input(\"請輸入正六邊形的邊長：\"))\n",
    "area = 6 * s * s / (4 * math.tan(math.pi / 6))\n",
    "print(\"邊長\", s, \"的正六邊形面積為\", area)"
   ]
  },
  {
   "cell_type": "code",
   "execution_count": 38,
   "metadata": {},
   "outputs": [
    {
     "name": "stdout",
     "output_type": "stream",
     "text": [
      "個人綜合所得稅為 25000.0 元\n"
     ]
    }
   ],
   "source": [
    "money = eval(input(\"請輸入綜合所得淨額：\"))\n",
    "if (money >= 0 and money <= 520000):\n",
    "    tax = money * 0.05\n",
    "elif (money >= 520001 and money <= 1170000):\n",
    "    tax = money * 0.12\n",
    "elif (money >= 1170001 and money <= 2350000):\n",
    "    tax = money * 0.2\n",
    "elif (money >= 2350001 and money <= 4400000):\n",
    "    tax = money * 0.3\n",
    "elif (money > 4400000):\n",
    "    tax = money * 0.4   \n",
    "print(\"個人綜合所得稅為\", tax, \"元\")"
   ]
  },
  {
   "cell_type": "code",
   "execution_count": 39,
   "metadata": {},
   "outputs": [
    {
     "name": "stdout",
     "output_type": "stream",
     "text": [
      "個人綜合所得稅為 139200.0 元\n"
     ]
    }
   ],
   "source": [
    "money = eval(input(\"請輸入綜合所得淨額：\"))\n",
    "if (money >= 0 and money <= 520000):\n",
    "    tax = money * 0.05\n",
    "elif (money >= 520001 and money <= 1170000):\n",
    "    tax = money * 0.12\n",
    "elif (money >= 1170001 and money <= 2350000):\n",
    "    tax = money * 0.2\n",
    "elif (money >= 2350001 and money <= 4400000):\n",
    "    tax = money * 0.3\n",
    "elif (money > 4400000):\n",
    "    tax = money * 0.4   \n",
    "print(\"個人綜合所得稅為\", tax, \"元\")"
   ]
  },
  {
   "cell_type": "code",
   "execution_count": 40,
   "metadata": {},
   "outputs": [
    {
     "name": "stdout",
     "output_type": "stream",
     "text": [
      "個人綜合所得稅為 460000.0 元\n"
     ]
    }
   ],
   "source": [
    "money = eval(input(\"請輸入綜合所得淨額：\"))\n",
    "if (money >= 0 and money <= 520000):\n",
    "    tax = money * 0.05\n",
    "elif (money >= 520001 and money <= 1170000):\n",
    "    tax = money * 0.12\n",
    "elif (money >= 1170001 and money <= 2350000):\n",
    "    tax = money * 0.2\n",
    "elif (money >= 2350001 and money <= 4400000):\n",
    "    tax = money * 0.3\n",
    "elif (money > 4400000):\n",
    "    tax = money * 0.4   \n",
    "print(\"個人綜合所得稅為\", tax, \"元\")"
   ]
  },
  {
   "cell_type": "code",
   "execution_count": 41,
   "metadata": {},
   "outputs": [
    {
     "name": "stdout",
     "output_type": "stream",
     "text": [
      "個人綜合所得稅為 1200000.0 元\n"
     ]
    }
   ],
   "source": [
    "money = eval(input(\"請輸入綜合所得淨額：\"))\n",
    "if (money >= 0 and money <= 520000):\n",
    "    tax = money * 0.05\n",
    "elif (money >= 520001 and money <= 1170000):\n",
    "    tax = money * 0.12\n",
    "elif (money >= 1170001 and money <= 2350000):\n",
    "    tax = money * 0.2\n",
    "elif (money >= 2350001 and money <= 4400000):\n",
    "    tax = money * 0.3\n",
    "elif (money > 4400000):\n",
    "    tax = money * 0.4   \n",
    "print(\"個人綜合所得稅為\", tax, \"元\")"
   ]
  },
  {
   "cell_type": "code",
   "execution_count": 42,
   "metadata": {},
   "outputs": [
    {
     "name": "stdout",
     "output_type": "stream",
     "text": [
      "個人綜合所得稅為 1800000.0 元\n"
     ]
    }
   ],
   "source": [
    "money = eval(input(\"請輸入綜合所得淨額：\"))\n",
    "if (money >= 0 and money <= 520000):\n",
    "    tax = money * 0.05\n",
    "elif (money >= 520001 and money <= 1170000):\n",
    "    tax = money * 0.12\n",
    "elif (money >= 1170001 and money <= 2350000):\n",
    "    tax = money * 0.2\n",
    "elif (money >= 2350001 and money <= 4400000):\n",
    "    tax = money * 0.3\n",
    "elif (money > 4400000):\n",
    "    tax = money * 0.4   \n",
    "print(\"個人綜合所得稅為\", tax, \"元\")"
   ]
  },
  {
   "cell_type": "code",
   "execution_count": 43,
   "metadata": {},
   "outputs": [
    {
     "name": "stdout",
     "output_type": "stream",
     "text": [
      "A\n",
      "AA\n",
      "AAA\n",
      "AAAA\n",
      "AAAAA\n"
     ]
    }
   ],
   "source": [
    "num = eval(input(\"請輸入數字：\"))\n",
    "ch = input(\"請輸入符號文字：\")\n",
    "sum = 0\n",
    "\n",
    "for i in range(0, num):\n",
    "    for j in range(0, num):\n",
    "        if (j <= i):\n",
    "            print(ch, end=\"\")\n",
    "            sum += 1\n",
    "    print()"
   ]
  },
  {
   "cell_type": "code",
   "execution_count": 44,
   "metadata": {},
   "outputs": [
    {
     "name": "stdout",
     "output_type": "stream",
     "text": [
      "XXXXXXXX\n",
      "X      X      \n",
      "X      X      \n",
      "X      X      \n",
      "X      X      \n",
      "X      X      \n",
      "X      X      \n",
      "XXXXXXXX\n"
     ]
    }
   ],
   "source": [
    "num = eval(input(\"請輸入數字：\"))\n",
    "ch = input(\"請輸入符號文字：\")\n",
    "sum = 0\n",
    "\n",
    "for i in range(0, num):\n",
    "    for j in range(0, num):\n",
    "        if (i == 0 or i == num - 1):\n",
    "            print(ch, end=\"\")\n",
    "            continue\n",
    "        if (j == 0 or j == num - 1):\n",
    "            print(ch, end=\"\")\n",
    "            print(\" \" * (num - 2), end = \"\")\n",
    "    print()"
   ]
  },
  {
   "cell_type": "code",
   "execution_count": 45,
   "metadata": {},
   "outputs": [
    {
     "name": "stdout",
     "output_type": "stream",
     "text": [
      "這組資料的算術平均數為 5.222222222222222\n",
      "這組資料的幾何平均數為 4.479187323468108\n"
     ]
    }
   ],
   "source": [
    "def arithmeticMean(*numbers):\n",
    "    sum = 0\n",
    "    n = 0\n",
    "    for i in numbers:\n",
    "        sum = sum + i\n",
    "        n = n + 1\n",
    "    return sum / n\n",
    "\n",
    "def geometricMean(*numbers):\n",
    "    product = 1\n",
    "    n = 0\n",
    "    for i in numbers:\n",
    "        product = product * i\n",
    "        n = n + 1\n",
    "    return product ** (1 / n)\n",
    "\n",
    "print(\"這組資料的算術平均數為\", arithmeticMean(1, 4, 5, 6, 7, 3, 8, 4, 9))\n",
    "print(\"這組資料的幾何平均數為\", geometricMean(1, 4, 5, 6, 7, 3, 8, 4, 9))"
   ]
  },
  {
   "cell_type": "code",
   "execution_count": 46,
   "metadata": {},
   "outputs": [
    {
     "name": "stdout",
     "output_type": "stream",
     "text": [
      "-50\n",
      "100\n"
     ]
    }
   ],
   "source": [
    "def larger(x, y):\n",
    "    if x > y:\n",
    "        return x\n",
    "    else:\n",
    "        return y\n",
    "\n",
    "def largerMax(*number):\n",
    "    max = -99999\n",
    "    for i in number:\n",
    "        if i > max:\n",
    "            max = i\n",
    "    return max\n",
    "\n",
    "print(larger(-100, -50))\n",
    "print(largerMax(10, 50, 100, -10, -5))"
   ]
  },
  {
   "cell_type": "code",
   "execution_count": 47,
   "metadata": {},
   "outputs": [
    {
     "name": "stdout",
     "output_type": "stream",
     "text": [
      "105和38的最大公因數為 1\n",
      "105和36的最大公因數為 3\n"
     ]
    }
   ],
   "source": [
    "def gcd(m, n):\n",
    "    if m % n == 0:\n",
    "        return n\n",
    "    else:\n",
    "        return gcd(n, m % n)\n",
    "\n",
    "print(\"105和38的最大公因數為\", gcd(105, 38))\n",
    "print(\"105和36的最大公因數為\", gcd(105, 36))"
   ]
  },
  {
   "cell_type": "code",
   "execution_count": 48,
   "metadata": {},
   "outputs": [
    {
     "name": "stdout",
     "output_type": "stream",
     "text": [
      "5! = 120\n"
     ]
    }
   ],
   "source": [
    "result = 1\n",
    "for i in range(1, 6):\n",
    "    result = result * i\n",
    "print(\"5! =\", result)"
   ]
  },
  {
   "cell_type": "code",
   "execution_count": 49,
   "metadata": {},
   "outputs": [
    {
     "name": "stdout",
     "output_type": "stream",
     "text": [
      "0! = 1\n",
      "5! = 120\n"
     ]
    }
   ],
   "source": [
    "def F(n):\n",
    "    if n == 0:\n",
    "        return 1\n",
    "    elif n > 0:\n",
    "        return n * F(n - 1)\n",
    "    else:\n",
    "        return -1\n",
    "\n",
    "print(\"0! =\", F(0))\n",
    "print(\"5! =\", F(5))"
   ]
  },
  {
   "cell_type": "code",
   "execution_count": 50,
   "metadata": {},
   "outputs": [
    {
     "name": "stdout",
     "output_type": "stream",
     "text": [
      "1\t1\t2\t3\t5\t8\t13\t21\t34\t55\t89\t144\t233\t377\t610\t"
     ]
    }
   ],
   "source": [
    "def fibo(n):\n",
    "    if n == 1 or n == 2:\n",
    "        return 1\n",
    "    else:\n",
    "        return fibo(n - 1) + fibo(n - 2)\n",
    "\n",
    "for i in range(1, 16):\n",
    "    print(fibo(i), end='\\t')"
   ]
  },
  {
   "cell_type": "code",
   "execution_count": 51,
   "metadata": {},
   "outputs": [
    {
     "name": "stdout",
     "output_type": "stream",
     "text": [
      "3\n",
      "abcde\n"
     ]
    }
   ],
   "source": [
    "add = lambda x, y: x + y\n",
    "print(add(1, 2))\n",
    "print(add(\"abc\", \"de\"))"
   ]
  },
  {
   "cell_type": "code",
   "execution_count": 52,
   "metadata": {},
   "outputs": [
    {
     "name": "stdout",
     "output_type": "stream",
     "text": [
      "Mary\n",
      "abc\n"
     ]
    }
   ],
   "source": [
    "myname = \"Mary\"\n",
    "(lambda title: print(title))(myname)\n",
    "youname = lambda title: print(title)\n",
    "youname(\"abc\")"
   ]
  },
  {
   "cell_type": "code",
   "execution_count": 53,
   "metadata": {},
   "outputs": [
    {
     "name": "stdout",
     "output_type": "stream",
     "text": [
      "(calendar.SATURDAY, 31)\n",
      "    January 2024\n",
      "Mo Tu We Th Fr Sa Su\n",
      " 1  2  3  4  5  6  7\n",
      " 8  9 10 11 12 13 14\n",
      "15 16 17 18 19 20 21\n",
      "22 23 24 25 26 27 28\n",
      "29 30 31\n",
      "\n",
      "1752151673.7486832\n"
     ]
    }
   ],
   "source": [
    "import time, calendar\n",
    "print(calendar.monthrange(2022, 1))\n",
    "print(calendar.month(2024, 1))\n",
    "print(time.time())"
   ]
  },
  {
   "cell_type": "code",
   "execution_count": 54,
   "metadata": {},
   "outputs": [
    {
     "name": "stdout",
     "output_type": "stream",
     "text": [
      "目前本地時間：Thu Jul 10 20:47:58 2025\n",
      "     July 2025\n",
      "Mo Tu We Th Fr Sa Su\n",
      "    1  2  3  4  5  6\n",
      " 7  8  9 10 11 12 13\n",
      "14 15 16 17 18 19 20\n",
      "21 22 23 24 25 26 27\n",
      "28 29 30 31\n",
      "\n"
     ]
    }
   ],
   "source": [
    "import datetime\n",
    "import calendar\n",
    "now = datetime.datetime.now()\n",
    "month = now.month\n",
    "year = now.year\n",
    "calendar = calendar.month(now.year, now.month)\n",
    "x = now.strftime(\"%a %b %d %H:%M:%S %Y\")\n",
    "print(\"目前本地時間：\" + x)\n",
    "print(calendar)"
   ]
  }
 ],
 "metadata": {
  "kernelspec": {
   "display_name": "base",
   "language": "python",
   "name": "python3"
  },
  "language_info": {
   "codemirror_mode": {
    "name": "ipython",
    "version": 3
   },
   "file_extension": ".py",
   "mimetype": "text/x-python",
   "name": "python",
   "nbconvert_exporter": "python",
   "pygments_lexer": "ipython3",
   "version": "3.13.5"
  }
 },
 "nbformat": 4,
 "nbformat_minor": 2
}
